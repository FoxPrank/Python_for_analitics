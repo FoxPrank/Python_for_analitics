{
 "cells": [
  {
   "cell_type": "code",
   "execution_count": 22,
   "id": "fbfe31a0",
   "metadata": {},
   "outputs": [],
   "source": [
    "import pandas as pd"
   ]
  },
  {
   "cell_type": "markdown",
   "id": "007527d9",
   "metadata": {},
   "source": [
    "# Задание 1"
   ]
  },
  {
   "cell_type": "code",
   "execution_count": 23,
   "id": "f7fb1de8",
   "metadata": {},
   "outputs": [
    {
     "data": {
      "text/html": [
       "<div>\n",
       "<style scoped>\n",
       "    .dataframe tbody tr th:only-of-type {\n",
       "        vertical-align: middle;\n",
       "    }\n",
       "\n",
       "    .dataframe tbody tr th {\n",
       "        vertical-align: top;\n",
       "    }\n",
       "\n",
       "    .dataframe thead th {\n",
       "        text-align: right;\n",
       "    }\n",
       "</style>\n",
       "<table border=\"1\" class=\"dataframe\">\n",
       "  <thead>\n",
       "    <tr style=\"text-align: right;\">\n",
       "      <th></th>\n",
       "      <th>user_id</th>\n",
       "      <th>date_served</th>\n",
       "      <th>marketing_channel</th>\n",
       "      <th>variant</th>\n",
       "      <th>language_displayed</th>\n",
       "      <th>converted</th>\n",
       "    </tr>\n",
       "  </thead>\n",
       "  <tbody>\n",
       "    <tr>\n",
       "      <th>0</th>\n",
       "      <td>a1000</td>\n",
       "      <td>1/1/18</td>\n",
       "      <td>House Ads</td>\n",
       "      <td>personalization</td>\n",
       "      <td>English</td>\n",
       "      <td>True</td>\n",
       "    </tr>\n",
       "    <tr>\n",
       "      <th>1</th>\n",
       "      <td>a1001</td>\n",
       "      <td>1/1/18</td>\n",
       "      <td>House Ads</td>\n",
       "      <td>personalization</td>\n",
       "      <td>English</td>\n",
       "      <td>True</td>\n",
       "    </tr>\n",
       "    <tr>\n",
       "      <th>2</th>\n",
       "      <td>a1002</td>\n",
       "      <td>1/1/18</td>\n",
       "      <td>House Ads</td>\n",
       "      <td>personalization</td>\n",
       "      <td>English</td>\n",
       "      <td>True</td>\n",
       "    </tr>\n",
       "    <tr>\n",
       "      <th>3</th>\n",
       "      <td>a1003</td>\n",
       "      <td>1/1/18</td>\n",
       "      <td>House Ads</td>\n",
       "      <td>personalization</td>\n",
       "      <td>English</td>\n",
       "      <td>True</td>\n",
       "    </tr>\n",
       "    <tr>\n",
       "      <th>4</th>\n",
       "      <td>a1004</td>\n",
       "      <td>1/1/18</td>\n",
       "      <td>House Ads</td>\n",
       "      <td>personalization</td>\n",
       "      <td>English</td>\n",
       "      <td>True</td>\n",
       "    </tr>\n",
       "  </tbody>\n",
       "</table>\n",
       "</div>"
      ],
      "text/plain": [
       "  user_id date_served marketing_channel          variant language_displayed  \\\n",
       "0   a1000      1/1/18         House Ads  personalization            English   \n",
       "1   a1001      1/1/18         House Ads  personalization            English   \n",
       "2   a1002      1/1/18         House Ads  personalization            English   \n",
       "3   a1003      1/1/18         House Ads  personalization            English   \n",
       "4   a1004      1/1/18         House Ads  personalization            English   \n",
       "\n",
       "  converted  \n",
       "0      True  \n",
       "1      True  \n",
       "2      True  \n",
       "3      True  \n",
       "4      True  "
      ]
     },
     "execution_count": 23,
     "metadata": {},
     "output_type": "execute_result"
    }
   ],
   "source": [
    "df = pd.read_csv('marketing_campaign.csv')\n",
    "df.head()"
   ]
  },
  {
   "cell_type": "code",
   "execution_count": 24,
   "id": "e1c9f5de",
   "metadata": {},
   "outputs": [
    {
     "data": {
      "text/plain": [
       "False    8946\n",
       "True     1076\n",
       "Name: converted, dtype: int64"
      ]
     },
     "execution_count": 24,
     "metadata": {},
     "output_type": "execute_result"
    }
   ],
   "source": [
    "data1 = df['converted'].value_counts()\n",
    "data1.head()\n"
   ]
  },
  {
   "cell_type": "code",
   "execution_count": 50,
   "id": "08832d2f",
   "metadata": {},
   "outputs": [
    {
     "data": {
      "text/html": [
       "<div>\n",
       "<style scoped>\n",
       "    .dataframe tbody tr th:only-of-type {\n",
       "        vertical-align: middle;\n",
       "    }\n",
       "\n",
       "    .dataframe tbody tr th {\n",
       "        vertical-align: top;\n",
       "    }\n",
       "\n",
       "    .dataframe thead th {\n",
       "        text-align: right;\n",
       "    }\n",
       "</style>\n",
       "<table border=\"1\" class=\"dataframe\">\n",
       "  <thead>\n",
       "    <tr style=\"text-align: right;\">\n",
       "      <th></th>\n",
       "      <th>False</th>\n",
       "      <th>True</th>\n",
       "    </tr>\n",
       "    <tr>\n",
       "      <th>variant</th>\n",
       "      <th></th>\n",
       "      <th></th>\n",
       "    </tr>\n",
       "  </thead>\n",
       "  <tbody>\n",
       "    <tr>\n",
       "      <th>control</th>\n",
       "      <td>4705</td>\n",
       "      <td>371</td>\n",
       "    </tr>\n",
       "    <tr>\n",
       "      <th>personalization</th>\n",
       "      <td>4241</td>\n",
       "      <td>705</td>\n",
       "    </tr>\n",
       "  </tbody>\n",
       "</table>\n",
       "</div>"
      ],
      "text/plain": [
       "                 False  True\n",
       "variant                     \n",
       "control           4705   371\n",
       "personalization   4241   705"
      ]
     },
     "execution_count": 50,
     "metadata": {},
     "output_type": "execute_result"
    }
   ],
   "source": [
    "data = pd.pivot_table(df, index = 'variant', columns = 'converted', values = 'user_id', aggfunc = 'count')\n",
    "data.columns.name = None\n",
    "data"
   ]
  },
  {
   "cell_type": "code",
   "execution_count": 37,
   "id": "d19db697",
   "metadata": {},
   "outputs": [],
   "source": [
    "import scipy.stats as stats\n"
   ]
  },
  {
   "cell_type": "code",
   "execution_count": 46,
   "id": "4806c3b7",
   "metadata": {},
   "outputs": [
    {
     "name": "stdout",
     "output_type": "stream",
     "text": [
      "chisq = 126.07767827548582, pvalue = 2.9568009705199523e-29\n"
     ]
    }
   ],
   "source": [
    "result = stats.chi2_contingency(data, correction = False)\n",
    "chisq, pvalue = result[:2]\n",
    "print('chisq = {}, pvalue = {}'.format(chisq, pvalue))"
   ]
  },
  {
   "cell_type": "markdown",
   "id": "3e7c54c8",
   "metadata": {},
   "source": [
    "так как pvalue меньше 0,05, то можно сделать вывод, что вариант personalization действительно статисстически чаще ковертируется. "
   ]
  },
  {
   "cell_type": "markdown",
   "id": "6c6ea425",
   "metadata": {},
   "source": [
    "# Задание 3"
   ]
  },
  {
   "cell_type": "code",
   "execution_count": null,
   "id": "1cfe23a7",
   "metadata": {},
   "outputs": [],
   "source": [
    "y = a*b^x или y = a*ln(x) + b"
   ]
  },
  {
   "cell_type": "code",
   "execution_count": 51,
   "id": "28f08bd9",
   "metadata": {},
   "outputs": [],
   "source": [
    "import numpy as np"
   ]
  },
  {
   "cell_type": "code",
   "execution_count": 54,
   "id": "65b18e77",
   "metadata": {},
   "outputs": [
    {
     "data": {
      "text/html": [
       "<div>\n",
       "<style scoped>\n",
       "    .dataframe tbody tr th:only-of-type {\n",
       "        vertical-align: middle;\n",
       "    }\n",
       "\n",
       "    .dataframe tbody tr th {\n",
       "        vertical-align: top;\n",
       "    }\n",
       "\n",
       "    .dataframe thead th {\n",
       "        text-align: right;\n",
       "    }\n",
       "</style>\n",
       "<table border=\"1\" class=\"dataframe\">\n",
       "  <thead>\n",
       "    <tr style=\"text-align: right;\">\n",
       "      <th></th>\n",
       "      <th>day</th>\n",
       "      <th>cumulative_ARPU</th>\n",
       "    </tr>\n",
       "  </thead>\n",
       "  <tbody>\n",
       "    <tr>\n",
       "      <th>0</th>\n",
       "      <td>1</td>\n",
       "      <td>0.4</td>\n",
       "    </tr>\n",
       "    <tr>\n",
       "      <th>1</th>\n",
       "      <td>3</td>\n",
       "      <td>0.6</td>\n",
       "    </tr>\n",
       "    <tr>\n",
       "      <th>2</th>\n",
       "      <td>7</td>\n",
       "      <td>0.8</td>\n",
       "    </tr>\n",
       "    <tr>\n",
       "      <th>3</th>\n",
       "      <td>14</td>\n",
       "      <td>1.1</td>\n",
       "    </tr>\n",
       "    <tr>\n",
       "      <th>4</th>\n",
       "      <td>21</td>\n",
       "      <td>1.3</td>\n",
       "    </tr>\n",
       "    <tr>\n",
       "      <th>5</th>\n",
       "      <td>30</td>\n",
       "      <td>1.4</td>\n",
       "    </tr>\n",
       "  </tbody>\n",
       "</table>\n",
       "</div>"
      ],
      "text/plain": [
       "   day  cumulative_ARPU\n",
       "0    1              0.4\n",
       "1    3              0.6\n",
       "2    7              0.8\n",
       "3   14              1.1\n",
       "4   21              1.3\n",
       "5   30              1.4"
      ]
     },
     "execution_count": 54,
     "metadata": {},
     "output_type": "execute_result"
    }
   ],
   "source": [
    "df3 = pd.DataFrame({'day': [1,3,7,14,21,30],\n",
    "                   'cumulative_ARPU': [0.4,0.6,0.8,1.10,1.30,1.40]})\n",
    "df3.head(6)"
   ]
  },
  {
   "cell_type": "code",
   "execution_count": 55,
   "id": "580ebabd",
   "metadata": {},
   "outputs": [],
   "source": [
    "import matplotlib.pyplot as plt\n",
    "from matplotlib.pyplot import figure"
   ]
  },
  {
   "cell_type": "code",
   "execution_count": 57,
   "id": "9a3df39a",
   "metadata": {},
   "outputs": [
    {
     "data": {
      "text/plain": [
       "<matplotlib.collections.PathCollection at 0x24c7c0d3ee0>"
      ]
     },
     "execution_count": 57,
     "metadata": {},
     "output_type": "execute_result"
    },
    {
     "data": {
      "image/png": "[encoded data removed]",
      "text/plain": [
       "<Figure size 640x480 with 1 Axes>"
      ]
     },
     "metadata": {},
     "output_type": "display_data"
    }
   ],
   "source": [
    "plt.figure(num=None, figsize=(8, 6), dpi=80, facecolor='w', edgecolor='k')\n",
    "plt.scatter(df3['day'], df3['cumulative_ARPU'], label=\"Original Data\" )"
   ]
  },
  {
   "cell_type": "code",
   "execution_count": 72,
   "id": "f179b43d",
   "metadata": {},
   "outputs": [],
   "source": [
    "def log_func(x,a,b):\n",
    "    return a * np.log( x ) + b\n",
    "def exp_func( x, a, b):\n",
    "    return a * b ** x "
   ]
  },
  {
   "cell_type": "code",
   "execution_count": 61,
   "id": "55978761",
   "metadata": {},
   "outputs": [],
   "source": [
    "from scipy.optimize import curve_fit"
   ]
  },
  {
   "cell_type": "code",
   "execution_count": 73,
   "id": "4cfd14b6",
   "metadata": {},
   "outputs": [],
   "source": [
    "log_popt, log_pcov = curve_fit(log_func, df3['day'], df3['cumulative_ARPU'])"
   ]
  },
  {
   "cell_type": "code",
   "execution_count": 74,
   "id": "54b40541",
   "metadata": {},
   "outputs": [],
   "source": [
    "exp_popt,par_pcov = curve_fit(exp_func, df3['day'], df3['cumulative_ARPU'])"
   ]
  },
  {
   "cell_type": "code",
   "execution_count": 75,
   "id": "0b88ec0d",
   "metadata": {},
   "outputs": [],
   "source": [
    "projection_endpoint = 90"
   ]
  },
  {
   "cell_type": "code",
   "execution_count": 76,
   "id": "451a7cae",
   "metadata": {},
   "outputs": [
    {
     "name": "stderr",
     "output_type": "stream",
     "text": [
      "C:\\Users\\Andrei\\AppData\\Local\\Temp\\ipykernel_9440\\219207331.py:2: RuntimeWarning: divide by zero encountered in log\n",
      "  return a * np.log( x ) + b\n"
     ]
    }
   ],
   "source": [
    "log_y_projected = log_func( np.arange( projection_endpoint ), *log_popt )\n",
    "exp_y_projected = par_func( np.arange( projection_endpoint ), *exp_popt )"
   ]
  },
  {
   "cell_type": "code",
   "execution_count": 77,
   "id": "711c211a",
   "metadata": {},
   "outputs": [],
   "source": [
    "import matplotlib.pyplot as plt\n",
    "from matplotlib.pyplot import figure"
   ]
  },
  {
   "cell_type": "code",
   "execution_count": 79,
   "id": "63edb1ff",
   "metadata": {},
   "outputs": [
    {
     "data": {
      "image/png": "[encoded data removed]",
      "text/plain": [
       "<Figure size 640x480 with 1 Axes>"
      ]
     },
     "metadata": {},
     "output_type": "display_data"
    }
   ],
   "source": [
    "plt.figure(num=None, figsize=(8, 6), dpi=80, facecolor='w', edgecolor='k')\n",
    "plt.scatter(df3['day'], df3['cumulative_ARPU'], label=\"Original Data\" )\n",
    "plt.plot( log_y_projected, label=\"Log Function Projections\" )\n",
    "plt.plot( par_y_projected, label=\"Exp Function Projections\" )\n",
    "plt.legend()\n",
    "plt.show()"
   ]
  },
  {
   "cell_type": "code",
   "execution_count": 80,
   "id": "779e17d5",
   "metadata": {},
   "outputs": [
    {
     "name": "stdout",
     "output_type": "stream",
     "text": [
      "Прогноз среднего дохода от пользователя на 90 дней по log модели 2.0\n",
      "Прогноз среднего дохода от пользователя на 90 дней по exp модели 10.0\n"
     ]
    }
   ],
   "source": [
    "print('Прогноз среднего дохода от пользователя на 90 дней по log модели', round(log_y_projected[89],0))\n",
    "print('Прогноз среднего дохода от пользователя на 90 дней по exp модели', round(exp_y_projected[89],0))"
   ]
  },
  {
   "cell_type": "code",
   "execution_count": 82,
   "id": "77528cd2",
   "metadata": {},
   "outputs": [
    {
     "data": {
      "text/plain": [
       "[0.3182915337381341,\n",
       " 0.6525362974984633,\n",
       " 0.9103204822385534,\n",
       " 1.121205448670408,\n",
       " 1.2445652459988827,\n",
       " 1.3530809922778193]"
      ]
     },
     "execution_count": 82,
     "metadata": {},
     "output_type": "execute_result"
    }
   ],
   "source": [
    "y_log_pred = [log_y_projected[ i ] for i in list(df3['day'])]\n",
    "y_log_pred"
   ]
  },
  {
   "cell_type": "code",
   "execution_count": 84,
   "id": "50bba611",
   "metadata": {},
   "outputs": [
    {
     "data": {
      "text/plain": [
       "[0.6193285013669545,\n",
       " 0.659088716032839,\n",
       " 0.7464307044090908,\n",
       " 0.9280456295448732,\n",
       " 1.153849493904676,\n",
       " 1.5266933282102846]"
      ]
     },
     "execution_count": 84,
     "metadata": {},
     "output_type": "execute_result"
    }
   ],
   "source": [
    "y_exp_pred = [exp_y_projected[ i ] for i in list(df3['day'])]\n",
    "y_exp_pred"
   ]
  },
  {
   "cell_type": "markdown",
   "id": "853adf33",
   "metadata": {},
   "source": [
    "По виду графиков функции и оригинальным данным логарифмическая функция ближе к реальным данным, соотвественно, для прогнозов лучше использовать именно её.\n",
    "Так как выборка наблюдений не очень большая, то можно рассматривать логарифмическую функцию как пессимитический прогноз, а возможность экспоненциального роста по графику показательной функции как оптимистичный прогноз."
   ]
  }
 ],
 "metadata": {
  "kernelspec": {
   "display_name": "Python 3 (ipykernel)",
   "language": "python",
   "name": "python3"
  },
  "language_info": {
   "codemirror_mode": {
    "name": "ipython",
    "version": 3
   },
   "file_extension": ".py",
   "mimetype": "text/x-python",
   "name": "python",
   "nbconvert_exporter": "python",
   "pygments_lexer": "ipython3",
   "version": "3.10.4"
  }
 },
 "nbformat": 4,
 "nbformat_minor": 5
}
